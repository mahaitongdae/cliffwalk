{
 "cells": [
  {
   "cell_type": "code",
   "id": "initial_id",
   "metadata": {
    "collapsed": true,
    "ExecuteTime": {
     "end_time": "2024-07-15T20:27:12.040675Z",
     "start_time": "2024-07-15T20:27:12.038443Z"
    }
   },
   "source": [
    "from mdp import generate_cliffworld, value_iteration, v_star\n",
    "import numpy as np\n",
    "state_space, action_space, rho_cf, P_cf, r_cf = generate_cliffworld()"
   ],
   "outputs": [],
   "execution_count": 17
  },
  {
   "metadata": {},
   "cell_type": "markdown",
   "source": [
    "# Matrix formulation of policy iteration and density iteration\n",
    "\n",
    "now `P_Cliffworld` is a $21\\times4\\times21$ matrix. According to the basic policy evaluation, \n",
    "$$Q^\\pi = r + \\gamma P V$$\n",
    "where $Q\\in\\mathbb R^{|\\mathcal S||\\mathcal A|}$. Then we know that P is in this formulation,\n",
    "$$P\\in\\mathbb R^{|\\mathcal S||\\mathcal A|\\times |\\mathcal S|}$$, where $P_{ij}$ is the probability of take state-action pair $i$ (in a total of $n\\times m$) and transition to next state $s'_j$.\n",
    "where $$\n",
    "P = \\begin{bmatrix}\n",
    "    P(s'\\mid s_1, a_1)\\\\\n",
    "    P(s'\\mid s_1, a_2)\\\\\n",
    "    \\vdots\\\\\n",
    "    P(s'\\mid s_n, a_m)\n",
    "\\end{bmatrix}\n",
    "$$\n",
    "\n",
    "For the Q-version of the policy evaluation, we have\n",
    "\n",
    "$$\n",
    "Q^\\pi = r + \\gamma P\\Pi Q\n",
    "$$\n",
    "here $\\Pi\\in\\mathbb R^{|\\mathcal S|\\times|\\mathcal S||\\mathcal A|}$. We need to write the $\\Pi$ in a block diagonal matrix,\n",
    "$$\n",
    "\\Pi = \\begin{bmatrix}\n",
    "\\pi(a\\mid s = s_1) & 0 & \\dots & 0\\\\\n",
    "0 & \\pi(a\\mid s = s_2) & \\dots & 0 \\\\\n",
    "\\vdots & \\vdots & \\ddots & \\vdots\\\\\n",
    "0 & 0 & \\dots & \\pi(a\\mid s = s_n)\n",
    "\\end{bmatrix}\n",
    "$$\n",
    "\n",
    "Then if we do matrix multiplication of $P$ and $\\Pi$, the results will be \n",
    "$$\n",
    "P\\Pi\\in\\mathbb R^{|\\mathcal S||\\mathcal A|\\times|\\mathcal S||\\mathcal A|}\n",
    "$$"
   ],
   "id": "efc7469fccf62fec"
  },
  {
   "metadata": {
    "ExecuteTime": {
     "end_time": "2024-07-15T20:27:21.708786Z",
     "start_time": "2024-07-15T20:27:21.694045Z"
    }
   },
   "cell_type": "code",
   "source": [
    "# optimal policy\n",
    "gamma = 0.9\n",
    "K = 100\n",
    "v_vi, pi_vi, gaps_vi = value_iteration(P_cf, r_cf, gamma, K, v_star(), theta=1e-4)\n",
    "pi_vi"
   ],
   "id": "fed62ec7b305bf16",
   "outputs": [
    {
     "name": "stdout",
     "output_type": "stream",
     "text": [
      "Converged at iteration 6\n"
     ]
    },
    {
     "data": {
      "text/plain": [
       "array([3., 0., 0., 0., 0., 1., 1., 1., 1., 2., 1., 1., 1., 1., 2., 1., 1.,\n",
       "       1., 1., 2., 0.])"
      ]
     },
     "execution_count": 18,
     "metadata": {},
     "output_type": "execute_result"
    }
   ],
   "execution_count": 18
  },
  {
   "metadata": {
    "ExecuteTime": {
     "end_time": "2024-07-15T20:34:35.757622Z",
     "start_time": "2024-07-15T20:34:35.754663Z"
    }
   },
   "cell_type": "code",
   "source": [
    "def make_p_mat(P):\n",
    "    P_mat = np.zeros([len(state_space) * len(action_space), len(state_space)])\n",
    "    for s in range(len(state_space)):\n",
    "        for a in range(len(action_space)):\n",
    "            P_mat[s * len(action_space) + a] = P[s, a]\n",
    "    return P_mat\n",
    "Pmat = make_p_mat(P_cf)"
   ],
   "id": "529a8c649c51f7",
   "outputs": [],
   "execution_count": 25
  },
  {
   "metadata": {},
   "cell_type": "markdown",
   "source": "",
   "id": "a0dc0c36152a529e"
  },
  {
   "metadata": {
    "ExecuteTime": {
     "end_time": "2024-07-15T20:34:39.929708Z",
     "start_time": "2024-07-15T20:34:39.925852Z"
    }
   },
   "cell_type": "code",
   "source": [
    "# \n",
    "def make_pi_mat(pi):\n",
    "    pi_mat = np.zeros([len(state_space), len(state_space) * len(action_space)])\n",
    "    for i in range(len(state_space)):\n",
    "        action = pi[i]\n",
    "        pi_mat[i, i * len(action_space) + int(action)] = 1\n",
    "    return pi_mat\n",
    "Pimat = make_pi_mat(pi_vi)"
   ],
   "id": "c809eefb44b689ea",
   "outputs": [],
   "execution_count": 26
  },
  {
   "metadata": {
    "ExecuteTime": {
     "end_time": "2024-07-15T20:40:24.707444Z",
     "start_time": "2024-07-15T20:40:24.700899Z"
    }
   },
   "cell_type": "code",
   "source": [
    "v_star_mat = np.linalg.inv(np.eye(Pmat.shape[0]) - gamma * Pmat @ Pimat) @ r_cf.reshape([-1, 1])\n",
    "np.isclose(Pimat @ v_star_mat.squeeze(), v_star())"
   ],
   "id": "c1e656648868eaa0",
   "outputs": [
    {
     "data": {
      "text/plain": [
       "array([ True,  True,  True,  True,  True,  True,  True,  True,  True,\n",
       "        True,  True,  True,  True,  True,  True,  True,  True,  True,\n",
       "        True,  True,  True])"
      ]
     },
     "execution_count": 46,
     "metadata": {},
     "output_type": "execute_result"
    }
   ],
   "execution_count": 46
  }
 ],
 "metadata": {
  "kernelspec": {
   "display_name": "Python 3",
   "language": "python",
   "name": "python3"
  },
  "language_info": {
   "codemirror_mode": {
    "name": "ipython",
    "version": 2
   },
   "file_extension": ".py",
   "mimetype": "text/x-python",
   "name": "python",
   "nbconvert_exporter": "python",
   "pygments_lexer": "ipython2",
   "version": "2.7.6"
  }
 },
 "nbformat": 4,
 "nbformat_minor": 5
}

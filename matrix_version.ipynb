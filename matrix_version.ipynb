{
 "cells": [
  {
   "cell_type": "code",
   "execution_count": 1,
   "id": "initial_id",
   "metadata": {
    "ExecuteTime": {
     "end_time": "2024-07-15T20:53:59.906504Z",
     "start_time": "2024-07-15T20:53:59.660825Z"
    },
    "collapsed": true
   },
   "outputs": [],
   "source": [
    "from mdp import generate_cliffworld, value_iteration, v_star\n",
    "import numpy as np\n",
    "state_space, action_space, rho_cf, P_cf, r_cf = generate_cliffworld()"
   ]
  },
  {
   "cell_type": "markdown",
   "id": "efc7469fccf62fec",
   "metadata": {},
   "source": [
    "# Matrix formulation of policy iteration and density iteration\n",
    "\n",
    "now `P_Cliffworld` is a $21\\times4\\times21$ matrix. According to the basic policy evaluation, \n",
    "$$Q^\\pi = r + \\gamma P V$$\n",
    "where $Q\\in\\mathbb R^{|\\mathcal S||\\mathcal A|}$. Then we know that P is in this formulation,\n",
    "$$P\\in\\mathbb R^{|\\mathcal S||\\mathcal A|\\times |\\mathcal S|}$$, where $P_{ij}$ is the probability of take state-action pair $i$ (in a total of $n\\times m$) and transition to next state $s'_j$.\n",
    "where $$\n",
    "P = \\begin{bmatrix}\n",
    "    P(s'\\mid s_1, a_1)\\\\\n",
    "    P(s'\\mid s_1, a_2)\\\\\n",
    "    \\vdots\\\\\n",
    "    P(s'\\mid s_n, a_m)\n",
    "\\end{bmatrix}\n",
    "$$\n",
    "\n",
    "For the Q-version of the policy evaluation, we have\n",
    "\n",
    "$$\n",
    "Q^\\pi = r + \\gamma P\\Pi Q\n",
    "$$\n",
    "here $\\Pi\\in\\mathbb R^{|\\mathcal S|\\times|\\mathcal S||\\mathcal A|}$. We need to write the $\\Pi$ in a block diagonal matrix,\n",
    "$$\n",
    "\\Pi = \\begin{bmatrix}\n",
    "\\pi(a\\mid s = s_1) & 0 & \\dots & 0\\\\\n",
    "0 & \\pi(a\\mid s = s_2) & \\dots & 0 \\\\\n",
    "\\vdots & \\vdots & \\ddots & \\vdots\\\\\n",
    "0 & 0 & \\dots & \\pi(a\\mid s = s_n)\n",
    "\\end{bmatrix}\n",
    "$$\n",
    "\n",
    "Then if we do matrix multiplication of $P$ and $\\Pi$, the results will be \n",
    "$$\n",
    "P\\Pi\\in\\mathbb R^{|\\mathcal S||\\mathcal A|\\times|\\mathcal S||\\mathcal A|}\n",
    "$$"
   ]
  },
  {
   "cell_type": "code",
   "execution_count": 2,
   "id": "fed62ec7b305bf16",
   "metadata": {
    "ExecuteTime": {
     "end_time": "2024-07-15T20:54:02.135809Z",
     "start_time": "2024-07-15T20:54:02.120048Z"
    }
   },
   "outputs": [
    {
     "name": "stdout",
     "output_type": "stream",
     "text": [
      "Converged at iteration 6\n"
     ]
    },
    {
     "data": {
      "text/plain": [
       "array([3., 0., 0., 0., 0., 1., 1., 1., 1., 2., 1., 1., 1., 1., 2., 1., 1.,\n",
       "       1., 1., 2., 0.])"
      ]
     },
     "execution_count": 2,
     "metadata": {},
     "output_type": "execute_result"
    }
   ],
   "source": [
    "# optimal policy\n",
    "gamma = 0.9\n",
    "K = 100\n",
    "v_vi, pi_vi, gaps_vi = value_iteration(P_cf, r_cf, gamma, K, v_star(), theta=1e-4)\n",
    "pi_vi"
   ]
  },
  {
   "cell_type": "code",
   "execution_count": 3,
   "id": "529a8c649c51f7",
   "metadata": {
    "ExecuteTime": {
     "end_time": "2024-07-15T20:54:04.474785Z",
     "start_time": "2024-07-15T20:54:04.470417Z"
    }
   },
   "outputs": [],
   "source": [
    "def make_p_mat(P):\n",
    "    P_mat = np.zeros([len(state_space) * len(action_space), len(state_space)])\n",
    "    for s in range(len(state_space)):\n",
    "        for a in range(len(action_space)):\n",
    "            P_mat[s * len(action_space) + a] = P[s, a]\n",
    "    return P_mat\n",
    "Pmat = make_p_mat(P_cf)"
   ]
  },
  {
   "cell_type": "markdown",
   "id": "2c513ba0cfd022bc",
   "metadata": {},
   "source": [
    "# Basics about matrix formulation\n",
    "\n",
    "$$\n",
    "V = \\Pi Q\n",
    "$$\n",
    "\n",
    "- matrix of $P^\\pi(s', a'\\mid s, a ) = P\\Pi$\n",
    "- matrix of $P^\\pi(s'\\mid s) = \\Pi P$"
   ]
  },
  {
   "cell_type": "code",
   "execution_count": 4,
   "id": "c809eefb44b689ea",
   "metadata": {
    "ExecuteTime": {
     "end_time": "2024-07-15T20:54:06.406324Z",
     "start_time": "2024-07-15T20:54:06.402065Z"
    }
   },
   "outputs": [],
   "source": [
    "# \n",
    "def make_pi_mat(pi):\n",
    "    pi_mat = np.zeros([len(state_space), len(state_space) * len(action_space)])\n",
    "    for i in range(len(state_space)):\n",
    "        action = pi[i]\n",
    "        pi_mat[i, i * len(action_space) + int(action)] = 1\n",
    "    return pi_mat\n",
    "Pimat = make_pi_mat(pi_vi)"
   ]
  },
  {
   "cell_type": "code",
   "execution_count": 5,
   "id": "c1e656648868eaa0",
   "metadata": {
    "ExecuteTime": {
     "end_time": "2024-07-15T20:54:07.771982Z",
     "start_time": "2024-07-15T20:54:07.765340Z"
    }
   },
   "outputs": [
    {
     "data": {
      "text/plain": [
       "array([ True,  True,  True,  True,  True,  True,  True,  True,  True,\n",
       "        True,  True,  True,  True,  True,  True,  True,  True,  True,\n",
       "        True,  True,  True])"
      ]
     },
     "execution_count": 5,
     "metadata": {},
     "output_type": "execute_result"
    }
   ],
   "source": [
    "v_star_mat = np.linalg.inv(np.eye(Pmat.shape[0]) - gamma * Pmat @ Pimat) @ r_cf.reshape([-1, 1])\n",
    "np.isclose((Pimat @ v_star_mat).squeeze(), v_star())"
   ]
  },
  {
   "cell_type": "markdown",
   "id": "11ab9ecbe246a674",
   "metadata": {},
   "source": [
    "# density calculation"
   ]
  },
  {
   "cell_type": "markdown",
   "id": "5c5d81043fef0838",
   "metadata": {},
   "source": [
    "## enumerate version\n",
    "According to the density recursive,\n",
    "$$\n",
    "d^\\pi(s') = (1 - \\gamma)\\rho(s') + \\sum_{(s, a)} P(s'\\mid s, a)d(s)\\pi(a\\mid s)\n",
    "$$"
   ]
  },
  {
   "cell_type": "code",
   "execution_count": 15,
   "id": "615ee09065da026b",
   "metadata": {
    "ExecuteTime": {
     "end_time": "2024-07-15T20:57:58.047121Z",
     "start_time": "2024-07-15T20:57:58.034196Z"
    }
   },
   "outputs": [
    {
     "name": "stdout",
     "output_type": "stream",
     "text": [
      "converged at iteration 9, density sums up to 1.0\n"
     ]
    }
   ],
   "source": [
    "from copy import deepcopy\n",
    "def density_evaluation(pi):\n",
    "    density = deepcopy(rho_cf)\n",
    "    converged = False\n",
    "    iters = 0\n",
    "    while not converged:\n",
    "        d_last = deepcopy(density)\n",
    "        for i in range(len(state_space)):\n",
    "            density[i] = (1 - gamma) * rho_cf[i]\n",
    "            for j in range(len(state_space)):\n",
    "                for k in range(len(action_space)):\n",
    "                    density[i] += gamma * P_cf[j, k, i] * d_last[j] * (pi[j] == k)\n",
    "        if np.linalg.norm(density - d_last) < 1e-5:\n",
    "            converged = True\n",
    "        iters += 1\n",
    "    print(f\"converged at iteration {iters}, density sums up to {np.sum(density)}\")\n",
    "    return density\n",
    "d_pi_vi = density_evaluation(pi_vi)"
   ]
  },
  {
   "cell_type": "markdown",
   "id": "46501845934a65f5",
   "metadata": {},
   "source": [
    "## matrix version\n",
    "$d^\\pi \\in \\mathbb R^{|\\mathcal S||\\mathcal A|} = \\Pi^\\top d$\n",
    "\n",
    "$$\n",
    "d^\\pi = (1-\\gamma)\\rho + \\gamma P^\\top d^\\pi= (1-\\gamma)\\rho + \\gamma P^\\top \\Pi^\\top d\n",
    "$$"
   ]
  },
  {
   "cell_type": "markdown",
   "id": "43a5c49ea5567efc",
   "metadata": {},
   "source": [
    "Therefore, \n",
    "$$\n",
    "d = (I - \\gamma (\\Pi P)^\\top)^{-1} (1-\\gamma) \\rho\n",
    "$$"
   ]
  },
  {
   "cell_type": "code",
   "execution_count": 20,
   "id": "1d08bc75e5a3f86e",
   "metadata": {
    "ExecuteTime": {
     "end_time": "2024-07-15T21:12:32.396137Z",
     "start_time": "2024-07-15T21:12:32.391087Z"
    }
   },
   "outputs": [
    {
     "data": {
      "text/plain": [
       "array([ True,  True,  True,  True,  True,  True,  True,  True,  True,\n",
       "        True,  True,  True,  True,  True,  True,  True,  True,  True,\n",
       "        True,  True,  True])"
      ]
     },
     "execution_count": 20,
     "metadata": {},
     "output_type": "execute_result"
    }
   ],
   "source": [
    "d_pi_vi_mat = np.linalg.solve(np.eye(len(state_space)) - gamma * (Pimat @ Pmat).transpose(), (1 - gamma) * rho_cf)\n",
    "np.isclose(d_pi_vi, d_pi_vi_mat)\n",
    "# d_pi_vi_mat"
   ]
  },
  {
   "metadata": {},
   "cell_type": "markdown",
   "source": [
    "## state-action version\n",
    "$$\n",
    "\\Pi^\\top d = (1-\\gamma)\\Pi^\\top \\rho + \\gamma \\Pi^\\top P^\\top \\Pi^\\top d\n",
    "$$\n",
    "$$\n",
    "d^\\pi = (1-\\gamma)\\Pi^\\top \\rho + \\gamma \\Pi^\\top P^\\top d^\\pi\n",
    "$$\n",
    "$$\n",
    "d^\\pi = (1-\\gamma)\\Pi^\\top \\rho + \\gamma (P\\Pi)^\\top d^\\pi\n",
    "$$"
   ],
   "id": "2a85db2293277b1c"
  },
  {
   "metadata": {},
   "cell_type": "code",
   "outputs": [],
   "execution_count": null,
   "source": "",
   "id": "43319ce17abc0132"
  }
 ],
 "metadata": {
  "kernelspec": {
   "display_name": "Python 3",
   "language": "python",
   "name": "python3"
  },
  "language_info": {
   "codemirror_mode": {
    "name": "ipython",
    "version": 2
   },
   "file_extension": ".py",
   "mimetype": "text/x-python",
   "name": "python",
   "nbconvert_exporter": "python",
   "pygments_lexer": "ipython2",
   "version": "2.7.6"
  }
 },
 "nbformat": 4,
 "nbformat_minor": 5
}
